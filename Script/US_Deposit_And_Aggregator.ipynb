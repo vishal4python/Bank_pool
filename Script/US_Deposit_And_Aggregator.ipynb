{
 "cells": [
  {
   "cell_type": "code",
   "execution_count": 43,
   "metadata": {},
   "outputs": [],
   "source": [
    "import glob\n",
    "import os\n",
    "import pandas as pd\n",
    "import numpy as np\n",
    "import datetime\n",
    "import re\n",
    "import warnings\n",
    "from maks_lib import output_path\n",
    "from maks_lib import input_path\n",
    "warnings.simplefilter(action='ignore')\n",
    "now = datetime.datetime.now()\n",
    "\n",
    "extension = 'csv'\n",
    "\n",
    "\n",
    "# In[72]:\n",
    "\n",
    "\n",
    "all_files = glob.glob(output_path+\"US\\\\\"+'*.{}'.format(extension))"
   ]
  },
  {
   "cell_type": "code",
   "execution_count": 44,
   "metadata": {},
   "outputs": [
    {
     "data": {
      "text/plain": [
       "'C:\\\\Users\\\\vishal\\\\PycharmProjects\\\\pool-master\\\\data\\\\output\\\\US\\\\'"
      ]
     },
     "execution_count": 44,
     "metadata": {},
     "output_type": "execute_result"
    }
   ],
   "source": [
    "output_path+\"US\\\\\"\n",
    "#C:\\Users\\vishal\\PycharmProjects\\pool-master\\data\\output\\US"
   ]
  },
  {
   "cell_type": "code",
   "execution_count": 45,
   "metadata": {},
   "outputs": [
    {
     "data": {
      "text/plain": [
       "['C:\\\\Users\\\\vishal\\\\PycharmProjects\\\\pool-master\\\\data\\\\output\\\\US\\\\Aggregate_US_Deposits_Data_2018_04_11.csv',\n",
       " 'C:\\\\Users\\\\vishal\\\\PycharmProjects\\\\pool-master\\\\data\\\\output\\\\US\\\\Aggregator_US_Mortgage_Data_2018_04_11.csv',\n",
       " 'C:\\\\Users\\\\vishal\\\\PycharmProjects\\\\pool-master\\\\data\\\\output\\\\US\\\\US_Deposits_Data_2018_04_11.csv',\n",
       " 'C:\\\\Users\\\\vishal\\\\PycharmProjects\\\\pool-master\\\\data\\\\output\\\\US\\\\US_Mortgage_Data_2018_04_11.csv']"
      ]
     },
     "execution_count": 45,
     "metadata": {},
     "output_type": "execute_result"
    }
   ],
   "source": [
    "all_files"
   ]
  },
  {
   "cell_type": "code",
   "execution_count": 46,
   "metadata": {},
   "outputs": [],
   "source": [
    "bank_mortage_file  = [file for file in all_files if file.split(\"\\\\\")[-1].startswith(\"US_Mortgage_Data\") ]\n",
    "bank_deposite_file = [file for file in all_files if file.split(\"\\\\\")[-1].startswith(\"US_Deposits_Data\") ]\n",
    "\n",
    "agg_mortage_file  = [file for file in all_files if file.split(\"\\\\\")[-1].startswith(\"Aggregator_US_Mortgage\") ]\n",
    "agg_deposite_file = [file for file in all_files if file.split(\"\\\\\")[-1].startswith(\"Aggregate_US_Deposits\") ]"
   ]
  },
  {
   "cell_type": "code",
   "execution_count": 47,
   "metadata": {},
   "outputs": [],
   "source": [
    "bank_mortage_file  = pd.read_csv(bank_mortage_file[0])\n",
    "bank_deposite_file = pd.read_csv(bank_deposite_file[0])\n",
    "\n",
    "agg_mortage_file  = pd.read_csv(agg_mortage_file[0])\n",
    "agg_deposite_file = pd.read_csv(agg_deposite_file[0])"
   ]
  },
  {
   "cell_type": "code",
   "execution_count": 48,
   "metadata": {},
   "outputs": [],
   "source": [
    "df_deposit = pd.concat([bank_deposite_file, agg_deposite_file])\n",
    "df_mortage = pd.concat([bank_mortage_file, agg_mortage_file])"
   ]
  },
  {
   "cell_type": "code",
   "execution_count": 49,
   "metadata": {},
   "outputs": [],
   "source": [
    "df_deposit.to_csv(output_path+\"US\\\\\" + \"US_FINAL_Deposits_Data_{}.csv\".format(now.strftime(\"%Y_%m_%d\")), index=False )"
   ]
  },
  {
   "cell_type": "code",
   "execution_count": 50,
   "metadata": {},
   "outputs": [],
   "source": [
    "df_mortage.to_csv(output_path+\"US\\\\\" + \"US_FINAL_Mortgage_Data_{}.csv\".format(now.strftime(\"%Y_%m_%d\")), index=False )"
   ]
  },
  {
   "cell_type": "code",
   "execution_count": null,
   "metadata": {},
   "outputs": [],
   "source": []
  }
 ],
 "metadata": {
  "kernelspec": {
   "display_name": "Python 3",
   "language": "python",
   "name": "python3"
  },
  "language_info": {
   "codemirror_mode": {
    "name": "ipython",
    "version": 3
   },
   "file_extension": ".py",
   "mimetype": "text/x-python",
   "name": "python",
   "nbconvert_exporter": "python",
   "pygments_lexer": "ipython3",
   "version": "3.6.4"
  }
 },
 "nbformat": 4,
 "nbformat_minor": 2
}
